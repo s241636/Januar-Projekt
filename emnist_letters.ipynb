{
 "cells": [
  {
   "cell_type": "code",
   "execution_count": 40,
   "metadata": {},
   "outputs": [],
   "source": [
    "import torch\n",
    "import torch.nn as nn\n",
    "import torchvision\n",
    "from torchvision.datasets import MNIST\n",
    "from torchvision.transforms import ToTensor\n",
    "from torch.utils.data import DataLoader\n",
    "import torchshow as ts\n",
    "import torchmetrics"
   ]
  },
  {
   "cell_type": "code",
   "execution_count": 81,
   "metadata": {},
   "outputs": [
    {
     "name": "stdout",
     "output_type": "stream",
     "text": [
      "Training set size: 124800\n",
      "Testing set size: 20800\n"
     ]
    }
   ],
   "source": [
    "training_images_letters = torchvision.datasets.EMNIST( root='data' , split = 'letters', transform = ToTensor(), download = True, train = True, target_transform=lambda y: y - 1)\n",
    "training_dataloader_letters = DataLoader(training_images_letters, batch_size=1000, shuffle= True)\n",
    "\n",
    "testing_images_letters = torchvision.datasets.EMNIST( root='data' , split = 'letters', transform = ToTensor(), download = True, train = False, target_transform=lambda y: y - 1)\n",
    "testing_dataloader_letters = DataLoader(testing_images_letters, batch_size=1000)\n",
    "\n",
    "print(f\"Training set size: {len(training_images_letters)}\")\n",
    "print(f\"Testing set size: {len(testing_images_letters)}\")  "
   ]
  },
  {
   "cell_type": "code",
   "execution_count": 82,
   "metadata": {},
   "outputs": [],
   "source": [
    "accuracy = torchmetrics.Accuracy(task=\"multiclass\", num_classes=26) \n",
    "\n",
    "net = nn.Sequential(\n",
    "    nn.Conv2d(1, 20, kernel_size=3),\n",
    "    nn.ReLU(),\n",
    "    nn.MaxPool2d(kernel_size=2), \n",
    "    nn.Conv2d(20, 10, kernel_size=3),\n",
    "    nn.ReLU(),\n",
    "    nn.Conv2d(10, 10, kernel_size=3),\n",
    "    nn.ReLU(),\n",
    "    nn.MaxPool2d(kernel_size=2), \n",
    "    nn.Flatten(),\n",
    "    nn.Linear(250,26), \n",
    ")\n",
    "\n",
    "\n",
    "loss_fn = nn.CrossEntropyLoss()\n",
    "optimizer = torch.optim.Adam(net.parameters(), lr=0.01, maximize=False)"
   ]
  },
  {
   "cell_type": "code",
   "execution_count": 83,
   "metadata": {},
   "outputs": [],
   "source": [
    "# Loop'er over 10 epoker, og udregner loss'et og accuracy for hvert.\n",
    "def training_loop(training_dataloader_letters, optimizer, loss_fn):\n",
    "    total_loss = 0\n",
    "    accuracy.reset()\n",
    "    size = len(training_dataloader_letters)\n",
    "    for images,labels in training_dataloader_letters:\n",
    "        optimizer.zero_grad()\n",
    "        output = net(images)\n",
    "        loss = loss_fn(output, labels)\n",
    "        total_loss += loss.item()\n",
    "        loss.backward()\n",
    "        optimizer.step()\n",
    "        accuracy.update(output, labels)\n",
    "    avg_loss = total_loss / size\n",
    "    print(f\"Avg Training Accuracy: {accuracy.compute() * 100:.2f}%\")\n",
    "    print(f\"Avg Training Loss: {avg_loss}\")\n",
    "\n",
    "def testing_loop(testing_dataloader_letters, loss_fn):\n",
    "    total_loss = 0\n",
    "    accuracy.reset()\n",
    "    size = len(testing_dataloader_letters)\n",
    "    with torch.no_grad():\n",
    "        for images,labels in testing_dataloader_letters:\n",
    "            output = net(images)\n",
    "            loss = loss_fn(output, labels)\n",
    "            total_loss += loss\n",
    "            accuracy.update(output,labels)\n",
    "    avg_loss = total_loss / size\n",
    "    print(f\"Avg Testing Accuracy: {accuracy.compute() * 100 :.2f}%\")\n",
    "    print(f\"Avg Testing Loss: {avg_loss}\")\n"
   ]
  },
  {
   "cell_type": "code",
   "execution_count": 84,
   "metadata": {},
   "outputs": [
    {
     "name": "stdout",
     "output_type": "stream",
     "text": [
      "Epoch: 0\n",
      "Avg Testing Accuracy: 5.79%\n",
      "Avg Testing Loss: 3.259567975997925\n",
      "Avg Training Accuracy: 74.01%\n",
      "Avg Training Loss: 0.8775403668880463\n",
      "------------------\n",
      "Epoch: 1\n",
      "Avg Testing Accuracy: 85.32%\n",
      "Avg Testing Loss: 0.47863802313804626\n",
      "Avg Training Accuracy: 86.66%\n",
      "Avg Training Loss: 0.4254660797119141\n",
      "------------------\n",
      "Epoch: 2\n",
      "Avg Testing Accuracy: 87.91%\n",
      "Avg Testing Loss: 0.3924606442451477\n",
      "Avg Training Accuracy: 88.37%\n",
      "Avg Training Loss: 0.3692239806652069\n",
      "------------------\n",
      "Epoch: 3\n",
      "Avg Testing Accuracy: 88.86%\n",
      "Avg Testing Loss: 0.36765965819358826\n",
      "Avg Training Accuracy: 89.08%\n",
      "Avg Training Loss: 0.34268516063690185\n",
      "------------------\n",
      "Epoch: 4\n",
      "Avg Testing Accuracy: 89.19%\n",
      "Avg Testing Loss: 0.35119861364364624\n",
      "Avg Training Accuracy: 89.63%\n",
      "Avg Training Loss: 0.3267808245420456\n",
      "------------------\n",
      "Epoch: 5\n",
      "Avg Testing Accuracy: 89.85%\n",
      "Avg Testing Loss: 0.3450244963169098\n",
      "Avg Training Accuracy: 90.11%\n",
      "Avg Training Loss: 0.312550124168396\n",
      "------------------\n",
      "Epoch: 6\n",
      "Avg Testing Accuracy: 89.63%\n",
      "Avg Testing Loss: 0.33696216344833374\n",
      "Avg Training Accuracy: 90.09%\n",
      "Avg Training Loss: 0.3081091642379761\n",
      "------------------\n",
      "Epoch: 7\n",
      "Avg Testing Accuracy: 89.84%\n",
      "Avg Testing Loss: 0.32631731033325195\n",
      "Avg Training Accuracy: 90.43%\n",
      "Avg Training Loss: 0.2972391183376312\n",
      "------------------\n",
      "Epoch: 8\n",
      "Avg Testing Accuracy: 90.07%\n",
      "Avg Testing Loss: 0.3217037320137024\n",
      "Avg Training Accuracy: 90.62%\n",
      "Avg Training Loss: 0.2930371971130371\n",
      "------------------\n",
      "Epoch: 9\n",
      "Avg Testing Accuracy: 90.32%\n",
      "Avg Testing Loss: 0.3141162097454071\n",
      "Avg Training Accuracy: 90.77%\n",
      "Avg Training Loss: 0.2868250353336334\n",
      "------------------\n"
     ]
    }
   ],
   "source": [
    "for i in range(10):\n",
    "    print(f\"Epoch: {i}\")\n",
    "    testing_loop(testing_dataloader_letters, loss_fn)\n",
    "    training_loop(training_dataloader_letters, optimizer, loss_fn)\n",
    "    print(\"------------------\")"
   ]
  }
 ],
 "metadata": {
  "kernelspec": {
   "display_name": "IntelligentSystems",
   "language": "python",
   "name": "python3"
  },
  "language_info": {
   "codemirror_mode": {
    "name": "ipython",
    "version": 3
   },
   "file_extension": ".py",
   "mimetype": "text/x-python",
   "name": "python",
   "nbconvert_exporter": "python",
   "pygments_lexer": "ipython3",
   "version": "3.12.5"
  }
 },
 "nbformat": 4,
 "nbformat_minor": 2
}
