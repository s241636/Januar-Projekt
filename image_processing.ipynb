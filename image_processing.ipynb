{
 "cells": [
  {
   "cell_type": "code",
   "execution_count": 2,
   "metadata": {},
   "outputs": [],
   "source": [
    "import torch\n",
    "import torchvision\n",
    "import torchshow as ts"
   ]
  },
  {
   "cell_type": "code",
   "execution_count": null,
   "metadata": {},
   "outputs": [],
   "source": [
    "gs = torchvision.transforms.Grayscale(num_output_channels=1)\n",
    "image_path = \"image1.jpg\"\n",
    "image = torchvision.io.read_image(image_path)\n",
    "image = image[0:3]\n",
    "ts.show(image)\n",
    "print(image.shape)\n",
    "image = torchvision.transforms.functional.resize(image, [28, 28], antialias=True)\n",
    "ts.show(image)\n",
    "print(image.shape)\n",
    "image = gs(image)\n",
    "ts.show(image)\n",
    "print(image.shape)\n",
    "image = image.float()/255\n",
    "ts.show(image)\n",
    "print(image.shape)\n",
    "image = torchvision.transforms.functional.invert(image)\n",
    "ts.show(image)\n",
    "print(image.shape)"
   ]
  },
  {
   "cell_type": "code",
   "execution_count": null,
   "metadata": {},
   "outputs": [],
   "source": [
    "def preprocess(image):\n",
    "    gs = torchvision.transforms.Grayscale(num_output_channels=1)\n",
    "    image = image[0:3]\n",
    "    image = torchvision.transforms.functional.resize(image, [28, 28], antialias=True)\n",
    "    image = gs(image)\n",
    "    image = image.float()/255\n",
    "    image = torchvision.transforms.functional.invert(image)\n",
    "    return image"
   ]
  }
 ],
 "metadata": {
  "kernelspec": {
   "display_name": "IntelligentSystems",
   "language": "python",
   "name": "python3"
  },
  "language_info": {
   "codemirror_mode": {
    "name": "ipython",
    "version": 3
   },
   "file_extension": ".py",
   "mimetype": "text/x-python",
   "name": "python",
   "nbconvert_exporter": "python",
   "pygments_lexer": "ipython3",
   "version": "3.12.8"
  }
 },
 "nbformat": 4,
 "nbformat_minor": 2
}
