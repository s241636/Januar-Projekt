{
 "cells": [
  {
   "cell_type": "code",
   "execution_count": 167,
   "metadata": {},
   "outputs": [],
   "source": [
    "import torch\n",
    "import torch.nn as nn\n",
    "import torchvision\n",
    "from torchvision.datasets import MNIST\n",
    "from torchvision.transforms import ToTensor\n",
    "from torch.utils.data import DataLoader\n",
    "import torchshow as ts\n",
    "import torchmetrics\n",
    "import matplotlib.pyplot as plt"
   ]
  },
  {
   "cell_type": "code",
   "execution_count": 168,
   "metadata": {},
   "outputs": [],
   "source": [
    "# Importere dataset, kun træning indtil videre.\n",
    "training_images = MNIST(root='data', transform=ToTensor(), train=True)\n",
    "training_dataloader = DataLoader(training_images, batch_size=1000)\n",
    "testing_images = MNIST(root='data', transform=ToTensor(), train=False)\n",
    "testing_dataloader = DataLoader(testing_images, batch_size=1000)"
   ]
  },
  {
   "cell_type": "code",
   "execution_count": 169,
   "metadata": {},
   "outputs": [],
   "source": [
    "# Laver det Neurale Netværk, og opstiller et accuracy objekt til at måle hvor god modellen er.\n",
    "accuracy = torchmetrics.Accuracy(task=\"multiclass\", num_classes=10)\n",
    "net = nn.Sequential(\n",
    "    nn.Conv2d(1, 10, kernel_size=3), #første parameter 1 er antal kanaler, her 1 fordi vi arbejder med gråtoner; 12 er antal ouputkanaler, altså antal filtre; 3 er størrelsen på det udsnit af billedet vi tager, som så bliver 3x3 matrice af pixels.\n",
    "    nn.ReLU(),\n",
    "    nn.MaxPool2d(kernel_size=2), #vælger den maksimale værdi i et udsnit af størrelsen 2x2, således dimensionerne af dataene reduceres fra 28x28 til 14x14\n",
    "    nn.Conv2d(10, 10, kernel_size=3),\n",
    "    nn.ReLU(),\n",
    "    nn.MaxPool2d(kernel_size=2), #vælger den maksimale værdi i et udsnit af størrelsen 2x2, således dimensionerne af dataene reduceres fra 14x14 til 7x7\n",
    "    nn.Flatten(),\n",
    "    nn.Linear(250,10), # input er nu 5 x 5 x 10\n",
    ")\n",
    "# Bruger crossentropy til at udregne losset, og indstiller optimizeren.\n",
    "loss_fn = nn.CrossEntropyLoss()\n",
    "optimizer = torch.optim.Adam(net.parameters(), lr=0.01, maximize=False)"
   ]
  },
  {
   "cell_type": "code",
   "execution_count": 170,
   "metadata": {},
   "outputs": [],
   "source": [
    "# Loop'er over 10 epoker, og udregner loss'et og accuracy for hvert.\n",
    "def training_loop(training_dataloader, optimizer, loss_fn):\n",
    "    total_loss = 0\n",
    "    accuracy.reset()\n",
    "    size = len(training_dataloader)\n",
    "    for images,labels in training_dataloader:\n",
    "        optimizer.zero_grad()\n",
    "        output = net(images)\n",
    "        loss = loss_fn(output, labels)\n",
    "        total_loss += loss\n",
    "        loss.backward()\n",
    "        optimizer.step()\n",
    "        accuracy.update(output, labels)\n",
    "    avg_loss = total_loss / size\n",
    "    print(f\"Avg Training Accuracy: {accuracy.compute() * 100:.2f}%\")\n",
    "    print(f\"Avg Training Loss: {avg_loss}\")\n",
    "\n",
    "def testing_loop(testing_dataloader, loss_fn):\n",
    "    total_loss = 0\n",
    "    accuracy.reset()\n",
    "    size = len(testing_dataloader)\n",
    "    with torch.no_grad():\n",
    "        for images,labels in testing_dataloader:\n",
    "            output = net(images)\n",
    "            loss = loss_fn(output, labels)\n",
    "            total_loss += loss\n",
    "            accuracy.update(output,labels)\n",
    "    avg_loss = total_loss / size\n",
    "    print(f\"Avg Testing Accuracy: {accuracy.compute() * 100 :.2f}%\")\n",
    "    print(f\"Avg Testing Loss: {avg_loss}\")"
   ]
  },
  {
   "cell_type": "code",
   "execution_count": 171,
   "metadata": {},
   "outputs": [
    {
     "name": "stdout",
     "output_type": "stream",
     "text": [
      "Epoch: 0\n",
      "Avg Testing Accuracy: 10.44%\n",
      "Avg Testing Loss: 2.3038954734802246\n",
      "Avg Training Accuracy: 82.80%\n",
      "Avg Training Loss: 0.6052076816558838\n",
      "------------------\n",
      "Epoch: 1\n",
      "Avg Testing Accuracy: 95.43%\n",
      "Avg Testing Loss: 0.15775389969348907\n",
      "Avg Training Accuracy: 95.85%\n",
      "Avg Training Loss: 0.1382410228252411\n",
      "------------------\n",
      "Epoch: 2\n",
      "Avg Testing Accuracy: 96.91%\n",
      "Avg Testing Loss: 0.09846438467502594\n",
      "Avg Training Accuracy: 97.06%\n",
      "Avg Training Loss: 0.09712325036525726\n",
      "------------------\n",
      "Epoch: 3\n",
      "Avg Testing Accuracy: 97.55%\n",
      "Avg Testing Loss: 0.08169470727443695\n",
      "Avg Training Accuracy: 97.50%\n",
      "Avg Training Loss: 0.08166242390871048\n",
      "------------------\n",
      "Epoch: 4\n",
      "Avg Testing Accuracy: 97.79%\n",
      "Avg Testing Loss: 0.07333729416131973\n",
      "Avg Training Accuracy: 97.78%\n",
      "Avg Training Loss: 0.07262850552797318\n",
      "------------------\n",
      "Epoch: 5\n",
      "Avg Testing Accuracy: 97.80%\n",
      "Avg Testing Loss: 0.06652777642011642\n",
      "Avg Training Accuracy: 97.93%\n",
      "Avg Training Loss: 0.06628532707691193\n",
      "------------------\n",
      "Epoch: 6\n",
      "Avg Testing Accuracy: 97.97%\n",
      "Avg Testing Loss: 0.06283445656299591\n",
      "Avg Training Accuracy: 98.11%\n",
      "Avg Training Loss: 0.06158478558063507\n",
      "------------------\n",
      "Epoch: 7\n",
      "Avg Testing Accuracy: 98.03%\n",
      "Avg Testing Loss: 0.06129133701324463\n",
      "Avg Training Accuracy: 98.22%\n",
      "Avg Training Loss: 0.05787789821624756\n",
      "------------------\n",
      "Epoch: 8\n",
      "Avg Testing Accuracy: 98.13%\n",
      "Avg Testing Loss: 0.0603601410984993\n",
      "Avg Training Accuracy: 98.32%\n",
      "Avg Training Loss: 0.05509696155786514\n",
      "------------------\n",
      "Epoch: 9\n",
      "Avg Testing Accuracy: 98.20%\n",
      "Avg Testing Loss: 0.059486933052539825\n",
      "Avg Training Accuracy: 98.40%\n",
      "Avg Training Loss: 0.05282533913850784\n",
      "------------------\n",
      "Epoch: 10\n",
      "Avg Testing Accuracy: 98.23%\n",
      "Avg Testing Loss: 0.058398742228746414\n",
      "Avg Training Accuracy: 98.46%\n",
      "Avg Training Loss: 0.05083795264363289\n",
      "------------------\n",
      "Epoch: 11\n",
      "Avg Testing Accuracy: 98.23%\n",
      "Avg Testing Loss: 0.057483572512865067\n",
      "Avg Training Accuracy: 98.52%\n",
      "Avg Training Loss: 0.049334291368722916\n",
      "------------------\n",
      "Epoch: 12\n",
      "Avg Testing Accuracy: 98.18%\n",
      "Avg Testing Loss: 0.05690639466047287\n",
      "Avg Training Accuracy: 98.52%\n",
      "Avg Training Loss: 0.04806246981024742\n",
      "------------------\n",
      "Epoch: 13\n",
      "Avg Testing Accuracy: 98.15%\n",
      "Avg Testing Loss: 0.05614043027162552\n",
      "Avg Training Accuracy: 98.56%\n",
      "Avg Training Loss: 0.046737853437662125\n",
      "------------------\n",
      "Epoch: 14\n",
      "Avg Testing Accuracy: 98.19%\n",
      "Avg Testing Loss: 0.05542144179344177\n",
      "Avg Training Accuracy: 98.59%\n",
      "Avg Training Loss: 0.04542955011129379\n",
      "------------------\n",
      "Epoch: 15\n",
      "Avg Testing Accuracy: 98.24%\n",
      "Avg Testing Loss: 0.055301886051893234\n",
      "Avg Training Accuracy: 98.63%\n",
      "Avg Training Loss: 0.04407390579581261\n",
      "------------------\n",
      "Epoch: 16\n",
      "Avg Testing Accuracy: 98.19%\n",
      "Avg Testing Loss: 0.05613768845796585\n",
      "Avg Training Accuracy: 98.70%\n",
      "Avg Training Loss: 0.0429999902844429\n",
      "------------------\n",
      "Epoch: 17\n",
      "Avg Testing Accuracy: 98.17%\n",
      "Avg Testing Loss: 0.0557967908680439\n",
      "Avg Training Accuracy: 98.73%\n",
      "Avg Training Loss: 0.04219752550125122\n",
      "------------------\n",
      "Epoch: 18\n",
      "Avg Testing Accuracy: 98.09%\n",
      "Avg Testing Loss: 0.05741328001022339\n",
      "Avg Training Accuracy: 98.73%\n",
      "Avg Training Loss: 0.041662298142910004\n",
      "------------------\n",
      "Epoch: 19\n",
      "Avg Testing Accuracy: 98.10%\n",
      "Avg Testing Loss: 0.05897073075175285\n",
      "Avg Training Accuracy: 98.71%\n",
      "Avg Training Loss: 0.04120555892586708\n",
      "------------------\n",
      "Epoch: 20\n",
      "Avg Testing Accuracy: 98.07%\n",
      "Avg Testing Loss: 0.06081772968173027\n",
      "Avg Training Accuracy: 98.75%\n",
      "Avg Training Loss: 0.04071534425020218\n",
      "------------------\n",
      "Epoch: 21\n",
      "Avg Testing Accuracy: 98.08%\n",
      "Avg Testing Loss: 0.06125743314623833\n",
      "Avg Training Accuracy: 98.78%\n",
      "Avg Training Loss: 0.0404428169131279\n",
      "------------------\n",
      "Epoch: 22\n",
      "Avg Testing Accuracy: 98.00%\n",
      "Avg Testing Loss: 0.06277059763669968\n"
     ]
    },
    {
     "ename": "KeyboardInterrupt",
     "evalue": "",
     "output_type": "error",
     "traceback": [
      "\u001b[0;31m---------------------------------------------------------------------------\u001b[0m",
      "\u001b[0;31mKeyboardInterrupt\u001b[0m                         Traceback (most recent call last)",
      "Cell \u001b[0;32mIn[171], line 4\u001b[0m\n\u001b[1;32m      2\u001b[0m \u001b[38;5;28mprint\u001b[39m(\u001b[38;5;124mf\u001b[39m\u001b[38;5;124m\"\u001b[39m\u001b[38;5;124mEpoch: \u001b[39m\u001b[38;5;132;01m{\u001b[39;00mi\u001b[38;5;132;01m}\u001b[39;00m\u001b[38;5;124m\"\u001b[39m)\n\u001b[1;32m      3\u001b[0m testing_loop(testing_dataloader, loss_fn)\n\u001b[0;32m----> 4\u001b[0m training_loop(training_dataloader, optimizer, loss_fn)\n\u001b[1;32m      5\u001b[0m \u001b[38;5;28mprint\u001b[39m(\u001b[38;5;124m\"\u001b[39m\u001b[38;5;124m------------------\u001b[39m\u001b[38;5;124m\"\u001b[39m)\n",
      "Cell \u001b[0;32mIn[170], line 11\u001b[0m, in \u001b[0;36mtraining_loop\u001b[0;34m(training_dataloader, optimizer, loss_fn)\u001b[0m\n\u001b[1;32m      9\u001b[0m loss \u001b[38;5;241m=\u001b[39m loss_fn(output, labels)\n\u001b[1;32m     10\u001b[0m total_loss \u001b[38;5;241m+\u001b[39m\u001b[38;5;241m=\u001b[39m loss\n\u001b[0;32m---> 11\u001b[0m loss\u001b[38;5;241m.\u001b[39mbackward()\n\u001b[1;32m     12\u001b[0m optimizer\u001b[38;5;241m.\u001b[39mstep()\n\u001b[1;32m     13\u001b[0m accuracy\u001b[38;5;241m.\u001b[39mupdate(output, labels)\n",
      "File \u001b[0;32m/opt/homebrew/Caskroom/miniconda/base/envs/IntelligentSystems/lib/python3.12/site-packages/torch/_tensor.py:581\u001b[0m, in \u001b[0;36mTensor.backward\u001b[0;34m(self, gradient, retain_graph, create_graph, inputs)\u001b[0m\n\u001b[1;32m    571\u001b[0m \u001b[38;5;28;01mif\u001b[39;00m has_torch_function_unary(\u001b[38;5;28mself\u001b[39m):\n\u001b[1;32m    572\u001b[0m     \u001b[38;5;28;01mreturn\u001b[39;00m handle_torch_function(\n\u001b[1;32m    573\u001b[0m         Tensor\u001b[38;5;241m.\u001b[39mbackward,\n\u001b[1;32m    574\u001b[0m         (\u001b[38;5;28mself\u001b[39m,),\n\u001b[0;32m   (...)\u001b[0m\n\u001b[1;32m    579\u001b[0m         inputs\u001b[38;5;241m=\u001b[39minputs,\n\u001b[1;32m    580\u001b[0m     )\n\u001b[0;32m--> 581\u001b[0m torch\u001b[38;5;241m.\u001b[39mautograd\u001b[38;5;241m.\u001b[39mbackward(\n\u001b[1;32m    582\u001b[0m     \u001b[38;5;28mself\u001b[39m, gradient, retain_graph, create_graph, inputs\u001b[38;5;241m=\u001b[39minputs\n\u001b[1;32m    583\u001b[0m )\n",
      "File \u001b[0;32m/opt/homebrew/Caskroom/miniconda/base/envs/IntelligentSystems/lib/python3.12/site-packages/torch/autograd/__init__.py:347\u001b[0m, in \u001b[0;36mbackward\u001b[0;34m(tensors, grad_tensors, retain_graph, create_graph, grad_variables, inputs)\u001b[0m\n\u001b[1;32m    342\u001b[0m     retain_graph \u001b[38;5;241m=\u001b[39m create_graph\n\u001b[1;32m    344\u001b[0m \u001b[38;5;66;03m# The reason we repeat the same comment below is that\u001b[39;00m\n\u001b[1;32m    345\u001b[0m \u001b[38;5;66;03m# some Python versions print out the first line of a multi-line function\u001b[39;00m\n\u001b[1;32m    346\u001b[0m \u001b[38;5;66;03m# calls in the traceback and some print out the last line\u001b[39;00m\n\u001b[0;32m--> 347\u001b[0m _engine_run_backward(\n\u001b[1;32m    348\u001b[0m     tensors,\n\u001b[1;32m    349\u001b[0m     grad_tensors_,\n\u001b[1;32m    350\u001b[0m     retain_graph,\n\u001b[1;32m    351\u001b[0m     create_graph,\n\u001b[1;32m    352\u001b[0m     inputs,\n\u001b[1;32m    353\u001b[0m     allow_unreachable\u001b[38;5;241m=\u001b[39m\u001b[38;5;28;01mTrue\u001b[39;00m,\n\u001b[1;32m    354\u001b[0m     accumulate_grad\u001b[38;5;241m=\u001b[39m\u001b[38;5;28;01mTrue\u001b[39;00m,\n\u001b[1;32m    355\u001b[0m )\n",
      "File \u001b[0;32m/opt/homebrew/Caskroom/miniconda/base/envs/IntelligentSystems/lib/python3.12/site-packages/torch/autograd/graph.py:825\u001b[0m, in \u001b[0;36m_engine_run_backward\u001b[0;34m(t_outputs, *args, **kwargs)\u001b[0m\n\u001b[1;32m    823\u001b[0m     unregister_hooks \u001b[38;5;241m=\u001b[39m _register_logging_hooks_on_whole_graph(t_outputs)\n\u001b[1;32m    824\u001b[0m \u001b[38;5;28;01mtry\u001b[39;00m:\n\u001b[0;32m--> 825\u001b[0m     \u001b[38;5;28;01mreturn\u001b[39;00m Variable\u001b[38;5;241m.\u001b[39m_execution_engine\u001b[38;5;241m.\u001b[39mrun_backward(  \u001b[38;5;66;03m# Calls into the C++ engine to run the backward pass\u001b[39;00m\n\u001b[1;32m    826\u001b[0m         t_outputs, \u001b[38;5;241m*\u001b[39margs, \u001b[38;5;241m*\u001b[39m\u001b[38;5;241m*\u001b[39mkwargs\n\u001b[1;32m    827\u001b[0m     )  \u001b[38;5;66;03m# Calls into the C++ engine to run the backward pass\u001b[39;00m\n\u001b[1;32m    828\u001b[0m \u001b[38;5;28;01mfinally\u001b[39;00m:\n\u001b[1;32m    829\u001b[0m     \u001b[38;5;28;01mif\u001b[39;00m attach_logging_hooks:\n",
      "\u001b[0;31mKeyboardInterrupt\u001b[0m: "
     ]
    }
   ],
   "source": [
    "for i in range(40):\n",
    "    print(f\"Epoch: {i}\")\n",
    "    testing_loop(testing_dataloader, loss_fn)\n",
    "    training_loop(training_dataloader, optimizer, loss_fn)\n",
    "    print(\"------------------\")"
   ]
  },
  {
   "cell_type": "code",
   "execution_count": 172,
   "metadata": {},
   "outputs": [
    {
     "name": "stdout",
     "output_type": "stream",
     "text": [
      "Model output:\n",
      "tensor([[ -4.76621, -16.68670,  -5.65210,  -7.28237,  -0.45005,   9.25993,\n",
      "          11.49490, -13.85319,  -0.61805,  -0.41987]],\n",
      "       grad_fn=<AddmmBackward0>)\n",
      "Efter softmax:\n",
      "tensor([[7.82960e-08, 5.20877e-13, 3.22850e-08, 6.32387e-09, 5.86441e-06,\n",
      "         9.66523e-02, 9.03331e-01, 8.85756e-12, 4.95750e-06, 6.04409e-06]],\n",
      "       grad_fn=<SoftmaxBackward0>)\n",
      "Modul bud: 6\n",
      "Korrekt: 5\n"
     ]
    },
    {
     "data": {
      "image/png": "[encoded data removed]",
      "text/plain": [
       "<Figure size 640x480 with 1 Axes>"
      ]
     },
     "metadata": {},
     "output_type": "display_data"
    }
   ],
   "source": [
    "# Afprøver modellen på et givent index af billederne.\n",
    "img_idx = 2000\n",
    "pred = net(training_images[img_idx][0].unsqueeze(0)) \n",
    "print(\"Model output:\")\n",
    "print(pred)\n",
    "sm = nn.Softmax(dim=1)\n",
    "print(\"Efter softmax:\")\n",
    "print(sm(pred))\n",
    "print(f\"Modul bud: {pred.argmax()}\")\n",
    "print(f\"Korrekt: {training_images[img_idx][1]}\")\n",
    "ts.show(training_images[img_idx][0])"
   ]
  },
  {
   "cell_type": "code",
   "execution_count": null,
   "metadata": {},
   "outputs": [],
   "source": []
  },
  {
   "cell_type": "code",
   "execution_count": 174,
   "metadata": {},
   "outputs": [
    {
     "name": "stdout",
     "output_type": "stream",
     "text": [
      "0\n",
      "1\n",
      "2\n",
      "3\n",
      "4\n",
      "5\n",
      "6\n",
      "7\n",
      "8\n",
      "4\n"
     ]
    },
    {
     "data": {
      "image/png": "[encoded data removed]",
      "text/plain": [
       "<Figure size 640x480 with 1 Axes>"
      ]
     },
     "metadata": {},
     "output_type": "display_data"
    },
    {
     "data": {
      "image/png": "[encoded data removed]",
      "text/plain": [
       "<Figure size 640x480 with 1 Axes>"
      ]
     },
     "metadata": {},
     "output_type": "display_data"
    },
    {
     "data": {
      "image/png": "[encoded data removed]",
      "text/plain": [
       "<Figure size 640x480 with 1 Axes>"
      ]
     },
     "metadata": {},
     "output_type": "display_data"
    },
    {
     "data": {
      "image/png": "[encoded data removed]",
      "text/plain": [
       "<Figure size 640x480 with 1 Axes>"
      ]
     },
     "metadata": {},
     "output_type": "display_data"
    },
    {
     "data": {
      "image/png": "[encoded data removed]",
      "text/plain": [
       "<Figure size 640x480 with 1 Axes>"
      ]
     },
     "metadata": {},
     "output_type": "display_data"
    },
    {
     "data": {
      "image/png": "[encoded data removed]",
      "text/plain": [
       "<Figure size 640x480 with 1 Axes>"
      ]
     },
     "metadata": {},
     "output_type": "display_data"
    },
    {
     "data": {
      "image/png": "[encoded data removed]",
      "text/plain": [
       "<Figure size 640x480 with 1 Axes>"
      ]
     },
     "metadata": {},
     "output_type": "display_data"
    },
    {
     "data": {
      "image/png": "[encoded data removed]",
      "text/plain": [
       "<Figure size 640x480 with 1 Axes>"
      ]
     },
     "metadata": {},
     "output_type": "display_data"
    },
    {
     "data": {
      "image/png": "[encoded data removed]",
      "text/plain": [
       "<Figure size 640x480 with 1 Axes>"
      ]
     },
     "metadata": {},
     "output_type": "display_data"
    },
    {
     "data": {
      "image/png": "[encoded data removed]",
      "text/plain": [
       "<Figure size 640x480 with 1 Axes>"
      ]
     },
     "metadata": {},
     "output_type": "display_data"
    }
   ],
   "source": [
    "\n",
    "# Pytorch Documentation og Mikkels ting\n",
    "def preprocess(image):\n",
    "    gs = torchvision.transforms.Grayscale(num_output_channels=1)\n",
    "    image = image[0:3]\n",
    "    image = torchvision.transforms.functional.resize(image, [28, 28], antialias=True)\n",
    "    image = gs(image)\n",
    "    image = image.float()/255\n",
    "    image = torchvision.transforms.functional.invert(image)\n",
    "    image = torchvision.transforms.functional.adjust_contrast(image, 13)\n",
    "    tresh = torch.nn.Threshold(0.28, 0.0)\n",
    "    image = tresh(image)\n",
    "    return image\n",
    "\n",
    "for i in range(10):\n",
    "    image = torchvision.io.decode_image(f\"far_images/image{10+i}.png\")\n",
    "    image = preprocess(image)\n",
    "    ts.show(image)\n",
    "    image = image.unsqueeze(0)\n",
    "    print(net(image).argmax().item())\n",
    "    sm(net(image))"
   ]
  },
  {
   "cell_type": "code",
   "execution_count": null,
   "metadata": {},
   "outputs": [],
   "source": []
  }
 ],
 "metadata": {
  "kernelspec": {
   "display_name": "IntelligentSystems",
   "language": "python",
   "name": "python3"
  },
  "language_info": {
   "codemirror_mode": {
    "name": "ipython",
    "version": 3
   },
   "file_extension": ".py",
   "mimetype": "text/x-python",
   "name": "python",
   "nbconvert_exporter": "python",
   "pygments_lexer": "ipython3",
   "version": "3.12.8"
  }
 },
 "nbformat": 4,
 "nbformat_minor": 2
}
