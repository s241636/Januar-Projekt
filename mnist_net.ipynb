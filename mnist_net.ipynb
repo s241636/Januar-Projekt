{
 "cells": [
  {
   "cell_type": "code",
   "execution_count": 55,
   "metadata": {},
   "outputs": [],
   "source": [
    "import torch\n",
    "import torch.nn as nn\n",
    "import torchvision\n",
    "# from torchvision.datasets import MNIST\n",
    "# from torchvision.transforms import ToTensor\n",
    "from torch.utils.data import DataLoader\n",
    "import torchshow as ts\n",
    "import torchmetrics\n",
    "import matplotlib.pyplot as plt"
   ]
  },
  {
   "cell_type": "code",
   "execution_count": 56,
   "metadata": {},
   "outputs": [],
   "source": [
    "# Importere dataset, kun træning indtil videre.\n",
    "training_images = MNIST(root='data', transform=ToTensor(), train=True)\n",
    "training_dataloader = DataLoader(training_images, batch_size=1000)\n",
    "testing_images = MNIST(root='data', transform=ToTensor(), train=False)\n",
    "testing_dataloader = DataLoader(testing_images, batch_size=1000)"
   ]
  },
  {
   "cell_type": "code",
   "execution_count": 57,
   "metadata": {},
   "outputs": [],
   "source": [
    "# Laver det Neurale Netværk, og opstiller et accuracy objekt til at måle hvor god modellen er.\n",
    "accuracy = torchmetrics.Accuracy(task=\"multiclass\", num_classes=10)\n",
    "net = nn.Sequential(\n",
    "    nn.Flatten(),\n",
    "    nn.Linear(784,12),\n",
    "    nn.ReLU(),\n",
    "    nn.Linear(12,12),\n",
    "    nn.ReLU(),\n",
    "    nn.Linear(12,10)\n",
    ")\n",
    "# Bruger crossentropy til at udregne losset, og indstiller optimizeren.\n",
    "loss_fn = nn.CrossEntropyLoss()\n",
    "optimizer = torch.optim.Adam(net.parameters(), lr=0.01, maximize=False)"
   ]
  },
  {
   "cell_type": "code",
   "execution_count": 58,
   "metadata": {},
   "outputs": [],
   "source": [
    "# Loop'er over 10 epoker, og udregner loss'et og accuracy for hvert.\n",
    "def training_loop(training_dataloader, optimizer, loss_fn):\n",
    "    total_loss = 0\n",
    "    accuracy.reset()\n",
    "    size = len(training_dataloader)\n",
    "    for images,labels in training_dataloader:\n",
    "        optimizer.zero_grad()\n",
    "        output = net(images)\n",
    "        loss = loss_fn(output, labels)\n",
    "        total_loss += loss\n",
    "        loss.backward()\n",
    "        optimizer.step()\n",
    "        accuracy.update(output, labels)\n",
    "    avg_loss = total_loss / size\n",
    "    print(f\"Avg Training Accuracy: {accuracy.compute() * 100:.2f}%\")\n",
    "    print(f\"Avg Training Loss: {avg_loss}\")\n",
    "\n",
    "def testing_loop(testing_dataloader, loss_fn):\n",
    "    total_loss = 0\n",
    "    accuracy.reset()\n",
    "    size = len(testing_dataloader)\n",
    "    with torch.no_grad():\n",
    "        for images,labels in testing_dataloader:\n",
    "            output = net(images)\n",
    "            loss = loss_fn(output, labels)\n",
    "            total_loss += loss\n",
    "            accuracy.update(output,labels)\n",
    "    avg_loss = total_loss / size\n",
    "    print(f\"Avg Testing Accuracy: {accuracy.compute() * 100 :.2f}%\")\n",
    "    print(f\"Avg Testing Loss: {avg_loss}\")"
   ]
  },
  {
   "cell_type": "code",
   "execution_count": 59,
   "metadata": {},
   "outputs": [
    {
     "name": "stdout",
     "output_type": "stream",
     "text": [
      "Epoch: 0\n",
      "Avg Testing Accuracy: 10.28%\n",
      "Avg Testing Loss: 2.307366132736206\n",
      "Avg Training Accuracy: 69.46%\n",
      "Avg Training Loss: 0.9448407888412476\n",
      "------------------\n",
      "Epoch: 1\n",
      "Avg Testing Accuracy: 88.55%\n",
      "Avg Testing Loss: 0.4041374623775482\n",
      "Avg Training Accuracy: 89.79%\n",
      "Avg Training Loss: 0.35343801975250244\n",
      "------------------\n",
      "Epoch: 2\n",
      "Avg Testing Accuracy: 91.47%\n",
      "Avg Testing Loss: 0.29620563983917236\n",
      "Avg Training Accuracy: 91.61%\n",
      "Avg Training Loss: 0.29220134019851685\n",
      "------------------\n",
      "Epoch: 3\n",
      "Avg Testing Accuracy: 92.58%\n",
      "Avg Testing Loss: 0.2613942623138428\n",
      "Avg Training Accuracy: 92.51%\n",
      "Avg Training Loss: 0.26088422536849976\n",
      "------------------\n",
      "Epoch: 4\n",
      "Avg Testing Accuracy: 93.05%\n",
      "Avg Testing Loss: 0.2405203878879547\n",
      "Avg Training Accuracy: 93.14%\n",
      "Avg Training Loss: 0.2399151772260666\n",
      "------------------\n",
      "Epoch: 5\n",
      "Avg Testing Accuracy: 93.41%\n",
      "Avg Testing Loss: 0.228590726852417\n",
      "Avg Training Accuracy: 93.50%\n",
      "Avg Training Loss: 0.22552350163459778\n",
      "------------------\n",
      "Epoch: 6\n",
      "Avg Testing Accuracy: 93.69%\n",
      "Avg Testing Loss: 0.22059373557567596\n",
      "Avg Training Accuracy: 93.82%\n",
      "Avg Training Loss: 0.21474860608577728\n",
      "------------------\n",
      "Epoch: 7\n",
      "Avg Testing Accuracy: 93.90%\n",
      "Avg Testing Loss: 0.2146989405155182\n",
      "Avg Training Accuracy: 94.07%\n",
      "Avg Training Loss: 0.206035315990448\n",
      "------------------\n",
      "Epoch: 8\n",
      "Avg Testing Accuracy: 93.87%\n",
      "Avg Testing Loss: 0.2114451378583908\n",
      "Avg Training Accuracy: 94.26%\n",
      "Avg Training Loss: 0.19938787817955017\n",
      "------------------\n",
      "Epoch: 9\n",
      "Avg Testing Accuracy: 93.94%\n",
      "Avg Testing Loss: 0.2095649242401123\n",
      "Avg Training Accuracy: 94.37%\n",
      "Avg Training Loss: 0.19411954283714294\n",
      "------------------\n",
      "Epoch: 10\n",
      "Avg Testing Accuracy: 93.95%\n",
      "Avg Testing Loss: 0.20765480399131775\n",
      "Avg Training Accuracy: 94.50%\n",
      "Avg Training Loss: 0.18962401151657104\n",
      "------------------\n",
      "Epoch: 11\n",
      "Avg Testing Accuracy: 94.14%\n",
      "Avg Testing Loss: 0.20708565413951874\n",
      "Avg Training Accuracy: 94.65%\n",
      "Avg Training Loss: 0.18580658733844757\n",
      "------------------\n",
      "Epoch: 12\n",
      "Avg Testing Accuracy: 94.07%\n",
      "Avg Testing Loss: 0.20659403502941132\n",
      "Avg Training Accuracy: 94.70%\n",
      "Avg Training Loss: 0.18217121064662933\n",
      "------------------\n",
      "Epoch: 13\n",
      "Avg Testing Accuracy: 94.15%\n",
      "Avg Testing Loss: 0.20461364090442657\n",
      "Avg Training Accuracy: 94.78%\n",
      "Avg Training Loss: 0.17950646579265594\n",
      "------------------\n",
      "Epoch: 14\n",
      "Avg Testing Accuracy: 94.03%\n",
      "Avg Testing Loss: 0.20810413360595703\n",
      "Avg Training Accuracy: 94.85%\n",
      "Avg Training Loss: 0.1779063493013382\n",
      "------------------\n",
      "Epoch: 15\n",
      "Avg Testing Accuracy: 93.98%\n",
      "Avg Testing Loss: 0.2101472169160843\n",
      "Avg Training Accuracy: 94.88%\n",
      "Avg Training Loss: 0.17568591237068176\n",
      "------------------\n",
      "Epoch: 16\n",
      "Avg Testing Accuracy: 94.17%\n",
      "Avg Testing Loss: 0.20845714211463928\n",
      "Avg Training Accuracy: 94.89%\n",
      "Avg Training Loss: 0.1744726598262787\n",
      "------------------\n",
      "Epoch: 17\n",
      "Avg Testing Accuracy: 94.21%\n",
      "Avg Testing Loss: 0.21070639789104462\n",
      "Avg Training Accuracy: 94.96%\n",
      "Avg Training Loss: 0.17426785826683044\n",
      "------------------\n",
      "Epoch: 18\n",
      "Avg Testing Accuracy: 94.22%\n",
      "Avg Testing Loss: 0.21339519321918488\n",
      "Avg Training Accuracy: 94.90%\n",
      "Avg Training Loss: 0.175164595246315\n",
      "------------------\n",
      "Epoch: 19\n",
      "Avg Testing Accuracy: 93.97%\n",
      "Avg Testing Loss: 0.21858873963356018\n",
      "Avg Training Accuracy: 94.77%\n",
      "Avg Training Loss: 0.17679721117019653\n",
      "------------------\n"
     ]
    }
   ],
   "source": [
    "for i in range(20):\n",
    "    print(f\"Epoch: {i}\")\n",
    "    testing_loop(testing_dataloader, loss_fn)\n",
    "    training_loop(training_dataloader, optimizer, loss_fn)\n",
    "    print(\"------------------\")"
   ]
  },
  {
   "cell_type": "code",
   "execution_count": 62,
   "metadata": {},
   "outputs": [
    {
     "name": "stdout",
     "output_type": "stream",
     "text": [
      "Model output:\n",
      "tensor([[-6.09014,  5.46468, -4.94278,  4.10750, -7.80145, -0.55876, -6.31738,\n",
      "         -5.64341,  2.27979, -1.13650]], grad_fn=<AddmmBackward0>)\n",
      "Efter softmax:\n",
      "tensor([[7.36191e-06, 7.67688e-01, 2.31890e-05, 1.97592e-01, 1.32977e-06,\n",
      "         1.85883e-03, 5.86548e-06, 1.15080e-05, 3.17691e-02, 1.04311e-03]],\n",
      "       grad_fn=<SoftmaxBackward0>)\n",
      "Modul bud: 1\n",
      "Korrekt svar: 1\n"
     ]
    },
    {
     "data": {
      "text/plain": [
       "torch.Size([1, 28, 28])"
      ]
     },
     "execution_count": 62,
     "metadata": {},
     "output_type": "execute_result"
    },
    {
     "data": {
      "image/png": "[encoded data removed]",
      "text/plain": [
       "<Figure size 640x480 with 1 Axes>"
      ]
     },
     "metadata": {},
     "output_type": "display_data"
    }
   ],
   "source": [
    "# Afprøver modellen på et givent index af billederne.\n",
    "img_idx = 900\n",
    "img = testing_images[img_idx][0]\n",
    "pred = net(img)\n",
    "print(\"Model output:\")\n",
    "print(pred)\n",
    "sm = nn.Softmax(dim=1)\n",
    "print(\"Efter softmax:\")\n",
    "print(sm(pred))\n",
    "print(f\"Modul bud: {pred.argmax()}\")\n",
    "print(f\"Korrekt svar: {testing_images[img_idx][1]}\")\n",
    "ts.show(img)\n",
    "img.shape"
   ]
  },
  {
   "cell_type": "code",
   "execution_count": 72,
   "metadata": {},
   "outputs": [
    {
     "name": "stdout",
     "output_type": "stream",
     "text": [
      "tensor([[1.40620e-10, 2.17173e-08, 4.41129e-06, 4.37217e-01, 1.12513e-18,\n",
      "         5.62778e-01, 1.69446e-08, 7.01674e-11, 3.24554e-07, 1.08073e-19]],\n",
      "       grad_fn=<SoftmaxBackward0>)\n",
      "tensor(5)\n"
     ]
    },
    {
     "data": {
      "image/png": "[encoded data removed]",
      "text/plain": [
       "<Figure size 640x480 with 1 Axes>"
      ]
     },
     "metadata": {},
     "output_type": "display_data"
    }
   ],
   "source": [
    "def preprocess(image):\n",
    "    gs = torchvision.transforms.Grayscale(num_output_channels=1)\n",
    "    image = image[0:3]\n",
    "    image = torchvision.transforms.functional.resize(image, [28, 28], antialias=True)\n",
    "    image = gs(image)\n",
    "    image = image.float()/255\n",
    "    image = torchvision.transforms.functional.invert(image)\n",
    "    return image\n",
    "\n",
    "torch.set_printoptions(precision=5)\n",
    "image = torchvision.io.decode_image(\"images/image1.jpg\")\n",
    "image = preprocess(image)\n",
    "ts.show(image)\n",
    "print(sm(net(image)))\n",
    "print(sm(net(image)).argmax())"
   ]
  }
 ],
 "metadata": {
  "kernelspec": {
   "display_name": "IntelligentSystems",
   "language": "python",
   "name": "python3"
  },
  "language_info": {
   "codemirror_mode": {
    "name": "ipython",
    "version": 3
   },
   "file_extension": ".py",
   "mimetype": "text/x-python",
   "name": "python",
   "nbconvert_exporter": "python",
   "pygments_lexer": "ipython3",
   "version": "3.12.8"
  }
 },
 "nbformat": 4,
 "nbformat_minor": 2
}
