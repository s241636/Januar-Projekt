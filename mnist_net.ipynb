{
 "cells": [
  {
   "cell_type": "code",
   "execution_count": 29,
   "metadata": {},
   "outputs": [],
   "source": [
    "import torch\n",
    "import torch.nn as nn\n",
    "import torchvision\n",
    "from torchvision.datasets import MNIST\n",
    "from torchvision.transforms import ToTensor\n",
    "from torch.utils.data import DataLoader\n",
    "import torchshow as ts\n",
    "import torchmetrics\n",
    "import matplotlib.pyplot as plt\n",
    "from ImageProcessing import ImageProcessor"
   ]
  },
  {
   "cell_type": "code",
   "execution_count": 30,
   "metadata": {},
   "outputs": [],
   "source": [
    "# Importere dataset, kun træning indtil videre.\n",
    "training_images = MNIST(root='data', transform=ToTensor(), train=True)\n",
    "training_dataloader = DataLoader(training_images, batch_size=1000)\n",
    "testing_images = MNIST(root='data', transform=ToTensor(), train=False)\n",
    "testing_dataloader = DataLoader(testing_images, batch_size=1000)"
   ]
  },
  {
   "cell_type": "code",
   "execution_count": 31,
   "metadata": {},
   "outputs": [],
   "source": [
    "# Laver det Neurale Netværk, og opstiller et accuracy objekt til at måle hvor god modellen er.\n",
    "accuracy = torchmetrics.Accuracy(task=\"multiclass\", num_classes=10)\n",
    "net = nn.Sequential(\n",
    "    nn.Flatten(),\n",
    "    nn.Linear(784,12),\n",
    "    nn.ReLU(),\n",
    "    nn.Linear(12,12),\n",
    "    nn.ReLU(),\n",
    "    nn.Linear(12,10)\n",
    ")\n",
    "# Bruger crossentropy til at udregne losset, og indstiller optimizeren.\n",
    "loss_fn = nn.CrossEntropyLoss()\n",
    "optimizer = torch.optim.Adam(net.parameters(), lr=0.01, maximize=False)"
   ]
  },
  {
   "cell_type": "code",
   "execution_count": 32,
   "metadata": {},
   "outputs": [],
   "source": [
    "# Loop'er over 10 epoker, og udregner loss'et og accuracy for hvert.\n",
    "def training_loop(training_dataloader, optimizer, loss_fn):\n",
    "    total_loss = 0\n",
    "    accuracy.reset()\n",
    "    size = len(training_dataloader)\n",
    "    for images,labels in training_dataloader:\n",
    "        optimizer.zero_grad()\n",
    "        output = net(images)\n",
    "        loss = loss_fn(output, labels)\n",
    "        total_loss += loss\n",
    "        loss.backward()\n",
    "        optimizer.step()\n",
    "        accuracy.update(output, labels)\n",
    "    avg_loss = total_loss / size\n",
    "    print(f\"Avg Training Accuracy: {accuracy.compute() * 100:.2f}%\")\n",
    "    print(f\"Avg Training Loss: {avg_loss}\")\n",
    "\n",
    "def testing_loop(testing_dataloader, loss_fn):\n",
    "    total_loss = 0\n",
    "    accuracy.reset()\n",
    "    size = len(testing_dataloader)\n",
    "    with torch.no_grad():\n",
    "        for images,labels in testing_dataloader:\n",
    "            output = net(images)\n",
    "            loss = loss_fn(output, labels)\n",
    "            total_loss += loss\n",
    "            accuracy.update(output,labels)\n",
    "    avg_loss = total_loss / size\n",
    "    print(f\"Avg Testing Accuracy: {accuracy.compute() * 100 :.2f}%\")\n",
    "    print(f\"Avg Testing Loss: {avg_loss}\")"
   ]
  },
  {
   "cell_type": "code",
   "execution_count": 33,
   "metadata": {},
   "outputs": [
    {
     "name": "stdout",
     "output_type": "stream",
     "text": [
      "Epoch: 0\n",
      "Avg Testing Accuracy: 11.50%\n",
      "Avg Testing Loss: 2.310556411743164\n",
      "Avg Training Accuracy: 71.82%\n",
      "Avg Training Loss: 0.8811070322990417\n",
      "------------------\n",
      "Epoch: 1\n",
      "Avg Testing Accuracy: 87.89%\n",
      "Avg Testing Loss: 0.39800530672073364\n",
      "Avg Training Accuracy: 89.75%\n",
      "Avg Training Loss: 0.35515448451042175\n",
      "------------------\n",
      "Epoch: 2\n",
      "Avg Testing Accuracy: 91.11%\n",
      "Avg Testing Loss: 0.3058135509490967\n",
      "Avg Training Accuracy: 91.51%\n",
      "Avg Training Loss: 0.29686880111694336\n",
      "------------------\n",
      "Epoch: 3\n",
      "Avg Testing Accuracy: 91.94%\n",
      "Avg Testing Loss: 0.27862897515296936\n",
      "Avg Training Accuracy: 92.23%\n",
      "Avg Training Loss: 0.27328813076019287\n",
      "------------------\n",
      "Epoch: 4\n",
      "Avg Testing Accuracy: 92.00%\n",
      "Avg Testing Loss: 0.27081960439682007\n",
      "Avg Training Accuracy: 92.61%\n",
      "Avg Training Loss: 0.2602808177471161\n",
      "------------------\n"
     ]
    }
   ],
   "source": [
    "for i in range(5):\n",
    "    print(f\"Epoch: {i}\")\n",
    "    testing_loop(testing_dataloader, loss_fn)\n",
    "    training_loop(training_dataloader, optimizer, loss_fn)\n",
    "    print(\"------------------\")"
   ]
  },
  {
   "cell_type": "code",
   "execution_count": 34,
   "metadata": {},
   "outputs": [
    {
     "name": "stdout",
     "output_type": "stream",
     "text": [
      "Model output:\n",
      "tensor([[-7.62502,  3.87374, -4.26453,  2.32193, -6.49759, -1.52553, -5.17332,\n",
      "         -3.88903, -0.70637, -3.03573]], grad_fn=<AddmmBackward0>)\n",
      "Efter softmax:\n",
      "tensor([[8.25604e-06, 8.13993e-01, 2.37802e-04, 1.72456e-01, 2.54923e-05,\n",
      "         3.67916e-03, 9.58370e-05, 3.46174e-04, 8.34653e-03, 8.12602e-04]],\n",
      "       grad_fn=<SoftmaxBackward0>)\n",
      "Modul bud: 1\n",
      "Korrekt svar: 1\n"
     ]
    },
    {
     "data": {
      "text/plain": [
       "torch.Size([1, 28, 28])"
      ]
     },
     "execution_count": 34,
     "metadata": {},
     "output_type": "execute_result"
    },
    {
     "data": {
      "image/png": "[encoded data removed]",
      "text/plain": [
       "<Figure size 640x480 with 1 Axes>"
      ]
     },
     "metadata": {},
     "output_type": "display_data"
    }
   ],
   "source": [
    "# Afprøver modellen på et givent index af billederne.\n",
    "img_idx = 900\n",
    "img = testing_images[img_idx][0]\n",
    "pred = net(img)\n",
    "print(\"Model output:\")\n",
    "print(pred)\n",
    "sm = nn.Softmax(dim=1)\n",
    "print(\"Efter softmax:\")     \n",
    "print(sm(pred))\n",
    "print(f\"Modul bud: {pred.argmax()}\")\n",
    "print(f\"Korrekt svar: {testing_images[img_idx][1]}\")\n",
    "ts.show(img)\n",
    "img.shape"
   ]
  },
  {
   "cell_type": "code",
   "execution_count": 37,
   "metadata": {},
   "outputs": [
    {
     "name": "stdout",
     "output_type": "stream",
     "text": [
      "tensor([[6.51586e-08, 9.53498e-07, 1.62210e-05, 9.85691e-01, 1.40241e-09,\n",
      "         9.48439e-03, 2.27839e-10, 1.08978e-09, 4.80674e-03, 2.38675e-07]],\n",
      "       grad_fn=<SoftmaxBackward0>)\n",
      "tensor(3)\n"
     ]
    },
    {
     "data": {
      "image/png": "[encoded data removed]",
      "text/plain": [
       "<Figure size 640x480 with 1 Axes>"
      ]
     },
     "metadata": {},
     "output_type": "display_data"
    }
   ],
   "source": [
    "torch.set_printoptions(precision=5)\n",
    "image = torchvision.io.decode_image(\"images_digits/image3.png\")\n",
    "ip = ImageProcessor()\n",
    "image = ip.preprocess(image)\n",
    "ts.show(image)\n",
    "print(sm(net(image)))\n",
    "print(sm(net(image)).argmax())"
   ]
  }
 ],
 "metadata": {
  "kernelspec": {
   "display_name": "IntelligentSystems",
   "language": "python",
   "name": "python3"
  },
  "language_info": {
   "codemirror_mode": {
    "name": "ipython",
    "version": 3
   },
   "file_extension": ".py",
   "mimetype": "text/x-python",
   "name": "python",
   "nbconvert_exporter": "python",
   "pygments_lexer": "ipython3",
   "version": "3.12.8"
  }
 },
 "nbformat": 4,
 "nbformat_minor": 2
}
