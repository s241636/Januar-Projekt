{
 "cells": [
  {
   "cell_type": "code",
   "execution_count": 1,
   "metadata": {},
   "outputs": [],
   "source": [
    "import torch\n",
    "import torch.nn as nn\n",
    "import torchvision\n",
    "import torchshow as ts\n",
    "import ImageProcessing as ip\n",
    "import os\n",
    "import cv2 as cv \n",
    "import mnist_cnn\n",
    "import importlib"
   ]
  },
  {
   "cell_type": "code",
   "execution_count": null,
   "metadata": {},
   "outputs": [],
   "source": [
    "net = mnist_cnn.cnn()\n",
    "net.load_state_dict(torch.load('20epoch_weights.pt', weights_only=True))"
   ]
  },
  {
   "cell_type": "code",
   "execution_count": 3,
   "metadata": {},
   "outputs": [],
   "source": [
    "def load_images(image_folder):\n",
    "    image_paths = os.listdir(image_folder)\n",
    "    if \".DS_Store\" in image_paths:\n",
    "        image_paths.remove(\".DS_Store\")\n",
    "    image_paths = [f\"{image_folder}/{image}\" for image in image_paths]\n",
    "    images = [torchvision.io.decode_image(path) for path in image_paths]\n",
    "    return images"
   ]
  },
  {
   "cell_type": "code",
   "execution_count": 4,
   "metadata": {},
   "outputs": [],
   "source": [
    "def load_images_with_labels(image_folder):\n",
    "    image_paths = os.listdir(image_folder)\n",
    "    if \".DS_Store\" in image_paths:\n",
    "        image_paths.remove(\".DS_Store\")\n",
    "    image_paths = [f\"{image_folder}/{image}\" for image in image_paths]\n",
    "    images = [torchvision.io.decode_image(path) for path in image_paths]\n",
    "    labels = []\n",
    "    for path in image_paths:\n",
    "        _, label = path.split('(')\n",
    "        label = int(label[0])\n",
    "        labels.append(label)\n",
    "    return images, labels"
   ]
  },
  {
   "cell_type": "code",
   "execution_count": 79,
   "metadata": {},
   "outputs": [],
   "source": [
    "def load_dida_images_with_labels(dida_folder):\n",
    "    image_paths = os.listdir(dida_folder)\n",
    "    if \".DS_Store\" in image_paths:\n",
    "        image_paths.remove(\".DS_Store\")\n",
    "    labels = []\n",
    "    images = []\n",
    "    for path in image_paths:\n",
    "        label = path[0]\n",
    "        labels.append(int(label))\n",
    "        image = torchvision.io.decode_image(f\"DIDA/{path}\")\n",
    "        images.append(image)\n",
    "    return images, labels"
   ]
  },
  {
   "cell_type": "code",
   "execution_count": null,
   "metadata": {},
   "outputs": [],
   "source": [
    "# Tester preprocess v1 accuracy på alle testset\n",
    "image_folder = \"preprocess_testset\"\n",
    "images, labels = load_images_with_labels(image_folder)\n",
    "image_count = len(images)\n",
    "test_set = zip(images,labels)\n",
    "correct_predictions = 0\n",
    "for idx, (image, label) in enumerate(test_set):\n",
    "    image = ip.preprocess_stack_v1(image)\n",
    "    # ts.save(image, f'stack1_images/{idx}.jpg')\n",
    "    pred = net(image).argmax().item()\n",
    "    if pred == label:\n",
    "        correct_predictions += 1\n",
    "acc = (correct_predictions / image_count) * 100\n",
    "print(f\"V1 Accuracy: {acc:.2f}%\")"
   ]
  },
  {
   "cell_type": "code",
   "execution_count": null,
   "metadata": {},
   "outputs": [],
   "source": [
    "# Tester preprocess v2 accuracy på eget testset\n",
    "import ImageProcessing\n",
    "importlib.reload(ImageProcessing) \n",
    "# Tester preprocess v2 på alle billeder\n",
    "image_folder = \"preprocess_testset\"\n",
    "images, labels = load_images_with_labels(image_folder)\n",
    "image_count = len(images)\n",
    "test_set = zip(images,labels)\n",
    "correct_predictions = 0\n",
    "for idx, (image, label) in enumerate(test_set):\n",
    "    image = ip.preprocess_stack_v2(image)\n",
    "    # ts.save(image, f'stack2_images/{idx}.jpg')\n",
    "    pred = net(image).argmax().item()\n",
    "    if pred == label:\n",
    "        correct_predictions += 1\n",
    "acc = (correct_predictions / image_count) * 100\n",
    "print(f\"V2 Accuracy: {acc:.2f}%\")"
   ]
  },
  {
   "cell_type": "code",
   "execution_count": null,
   "metadata": {},
   "outputs": [],
   "source": [
    "import ImageProcessing\n",
    "importlib.reload(ImageProcessing) \n",
    "# Tester preprocess v1 accuracy på DIDA testset\n",
    "images, labels = load_dida_images_with_labels(\"DIDA\")\n",
    "image_count = len(images)\n",
    "test_set = zip(images,labels)\n",
    "correct_predictions = 0\n",
    "for idx, (image, label) in enumerate(test_set):\n",
    "    image = ip.preprocess_stack_v1(image)\n",
    "    # ts.save(image, f'stack1_images/{idx}.jpg')\n",
    "    pred = net(image).argmax().item()\n",
    "    if pred == label:\n",
    "        correct_predictions += 1\n",
    "acc = (correct_predictions / image_count) * 100\n",
    "print(f\"V1 Accuracy: {acc:.2f}%\")"
   ]
  },
  {
   "cell_type": "code",
   "execution_count": null,
   "metadata": {},
   "outputs": [],
   "source": [
    "import ImageProcessing\n",
    "importlib.reload(ImageProcessing) \n",
    "# Tester preprocess v2 accuracy på DIDA testset\n",
    "images, labels = load_dida_images_with_labels(\"DIDA\")\n",
    "image_count = len(images)\n",
    "test_set = zip(images,labels)\n",
    "correct_predictions = 0\n",
    "for idx, (image, label) in enumerate(test_set):\n",
    "    image = ip.preprocess_stack_v2(image)\n",
    "    # ts.save(image, f'stack1_images/{idx}.jpg')\n",
    "    pred = net(image).argmax().item()\n",
    "    if pred == label:\n",
    "        correct_predictions += 1\n",
    "acc = (correct_predictions / image_count) * 100\n",
    "print(f\"V1 Accuracy: {acc:.2f}%\")"
   ]
  },
  {
   "cell_type": "code",
   "execution_count": null,
   "metadata": {},
   "outputs": [],
   "source": [
    "# Single image testing\n",
    "import ImageProcessing\n",
    "importlib.reload(ImageProcessing) \n",
    "image_folder = \"DIDA/0\"\n",
    "images = load_images(image_folder)\n",
    "image = images[10]\n",
    "image = ip.preprocess_stack_v2(image)\n",
    "ts.show(image)\n",
    "print(net(image).argmax())"
   ]
  },
  {
   "cell_type": "code",
   "execution_count": null,
   "metadata": {},
   "outputs": [],
   "source": [
    "# Viser billeder modellen stadig fejler på\n",
    "import ImageProcessing\n",
    "importlib.reload(ImageProcessing) \n",
    "# Tester preprocess v2 på alle billeder\n",
    "image_folder = \"preprocess_testset\"\n",
    "images, labels = load_images_with_labels(image_folder)\n",
    "image_count = len(images)\n",
    "test_set = zip(images,labels)\n",
    "for image, label in test_set:\n",
    "    image = ip.preprocess_stack_v2(image)\n",
    "    pred = net(image).argmax().item()\n",
    "    if pred != label:\n",
    "        ts.show(image)\n",
    "        print(sm(net(image)))\n"
   ]
  },
  {
   "cell_type": "code",
   "execution_count": null,
   "metadata": {},
   "outputs": [],
   "source": []
  }
 ],
 "metadata": {
  "kernelspec": {
   "display_name": "IntelligentSystems",
   "language": "python",
   "name": "python3"
  },
  "language_info": {
   "codemirror_mode": {
    "name": "ipython",
    "version": 3
   },
   "file_extension": ".py",
   "mimetype": "text/x-python",
   "name": "python",
   "nbconvert_exporter": "python",
   "pygments_lexer": "ipython3",
   "version": "3.12.8"
  }
 },
 "nbformat": 4,
 "nbformat_minor": 2
}
